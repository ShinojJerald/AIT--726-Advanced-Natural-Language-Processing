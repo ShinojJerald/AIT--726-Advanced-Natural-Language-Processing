{
 "cells": [
  {
   "cell_type": "markdown",
   "metadata": {
    "id": "pfMp5D2Q1gzw"
   },
   "source": [
    "<img src=\"https://www2.gmu.edu/sites/all/modules/features/feature_core_theme/templates/resources/images/mason-logo.png \" alt=\"GMU Logo\" title=\"George Mason University\" />\n",
    "<hr style =\"color:#99CC99\">\n",
    "    \n",
    "<h2 style=\"font-family:Helvetica; color:#006633;\">Programming Assignment # 3</h2>\n",
    "<h3 style=\"font-family:Helvetica; color:#006633;\"> Named Entity Recognition (NER) with Recurrent Neural Network (RNN)</h3>\n",
    "\n",
    "<p style=\"font-family:Helvetica; font-size:1.5em;\"> \n",
    "Authors: Team 1 - Shinoj Jerald Bounaventure Kumar Jeronmary, Yitong Li, Anh Nguyen and Nina Nnamani<br>\n",
    "Course Professor: Dr. Lindi Liao <br>\n",
    "Course Name: Natural Language Processing <br>\n",
    "Course Name and Section#: AIT \n",
    "726-001<br>\n",
    "University Name: George Mason University<br>\n",
    "Date: October 29, 2020    <br>\n",
    "</p>    \n",
    "<hr style =\"color:#99CC99\" width=\"75%\">\n",
    "<p style=\"font-family:Helvetica; font-size:1.4em;\"> \n",
    "Description: In this assignment, we will build 7 neural networks (vanilla RNN, bidirectional RNN, LSTM and bidirectional LSTM, GRU and bidirectional GRU and a modified version of the best RNN out of the previous 6) for Named Entity Recognition (NER) on CONLL 2003 dataset. The goal is to classify words into 10 different classes: , O, B-ORG, B-PER, B-LOC, B-MISC, IORG, I-PER, I-LOC, I-MISC. We are identifying whether words are part of a phrase referring to an organization, person, location, or miscellaneous. B indicates that word is at the beginning of the phrase, I indicates that the word is inside the phrase but not the first word, O indicates it is outside the phrase (does not belong to it).\n",
    " <br>\n",
    "    \n",
    "<p style=\"font-family:Helvetica; font-size:1.4em;\"> \n",
    "Instructions: This program is presented as a jupyter notebook and requires all packages in the import packages section to be installed prior to running the code to avoid errors. All the input raw data and the pre-train word embeddings word2vec are located in the same directory. The outline of the program closely resembles the order of the implemented features below. An html file of program of all outputs are included in this submission. The following overarching features are implemented:<br>\n",
    "\n",
    "<p style=\"font-family:Helvetica; font-size:1.2em;\"> \n",
    "1) Import packages necessary for the assignment (keras, gensim, numpy, sklearn, matplotlib)<br>\n",
    "2) Create functions for data preprocessing: paddings in sentences and assigning <pad> tag to them; normalize words to lowercase except all-cap words; reading input files and separate sentences from tags based on the first and last column in the data; vectorize words, lines and tags with word2vec (words that are not sentence paddings or out-of-vocab. OOV are assigned a value of 1, padding 0s is enumerated as 0); convert class sequences into word categories <br>\n",
    "3) Define functions to build the models: Create vanilla RNN from Keras Sequential package; add input layer equals to maximum length of text; use simple RNN with 256 dimensions with softmax activation function and Adam optimizer with learning rate 0.0001; functions that create LSTM and GRU models with the similar settings, Bidirectional RNN, Bidirectiona LSTM and Bidirectional GRU using Keras <br>\n",
    "4) Define function that gets metrics and test evaluation and predictions from the same package that created the models. <br>\n",
    "5) Testing the models (6 in total)<br> \n",
    "6) Assess the models and choose the architecture with the highest accuracy to modify as the 7th model. \n",
    "\n",
    "<br> \n",
    "           \n",
    "<p style=\"font-family:Helvetica; font-size:1.4em;\"> \n"
   ]
  },
  {
   "cell_type": "code",
   "execution_count": 1,
   "metadata": {
    "id": "g_NPDffNciJT"
   },
   "outputs": [
    {
     "name": "stderr",
     "output_type": "stream",
     "text": [
      "Using TensorFlow backend.\n"
     ]
    }
   ],
   "source": [
    "#using pad_sequences from pytorch to pad sentences to equal length\n",
    "#from torch.nn.utils.rnn import pad_sequence\n",
    "#if using keras, enable the line below\n",
    "from keras.preprocessing.sequence import pad_sequences\n",
    "from gensim import models\n",
    "from numpy import zeros\n",
    "import numpy as np\n",
    "from keras.models import Sequential\n",
    "from keras.layers import Dense, SimpleRNN, Activation,TimeDistributed,InputLayer,Bidirectional,LSTM,GRU, Input\n",
    "from keras import optimizers\n",
    "#use Adam optimizer with learning rate 0.0001\n",
    "from keras.optimizers import Adam\n",
    "from keras.layers import Embedding\n",
    "from keras import backend as K\n",
    "import numpy as np\n",
    "from sklearn.metrics import classification_report\n",
    "from sklearn import preprocessing\n",
    "import matplotlib.pyplot as plt\n"
   ]
  },
  {
   "cell_type": "code",
   "execution_count": 2,
   "metadata": {
    "id": "xNN8fcu88zv4"
   },
   "outputs": [],
   "source": [
    "tag_list_prime=['<pad>','O','B-ORG', 'B-PER','B-LOC', 'B-MISC', 'I-LOC','I-PER','I-ORG', 'I-MISC']\n",
    "\n",
    "def pad_tags(tags_list,max_len):\n",
    "    #Pad the tags\n",
    "    #assign <pad> as tags for the 0s in padded sentences\n",
    "    for i in range(0,len(tags_list)):\n",
    "        tags_list[i] += ['<pad>']  * (max_len - len(tags_list[i]))\n",
    "\n",
    "    return tags_list\n",
    "     \n",
    "\n",
    "#enable this function if using Keras. otherwise, use pad_sequence from pytorch \n",
    "def pad_seq(line_list,max_len):\n",
    "    #Pad each line to match the max sentence length\n",
    "    #enable line below if using keras\n",
    "    sent_list = pad_sequences(line_list, maxlen=max_len,padding='post')\n",
    "    \n",
    "    return sent_list"
   ]
  },
  {
   "cell_type": "code",
   "execution_count": 3,
   "metadata": {
    "id": "4MDecumm8zz4"
   },
   "outputs": [],
   "source": [
    "def normalize_case(s):    \n",
    "    #Paramaeter: Word to be normalized\n",
    "    #Converts words with capitalized first letters in to lower case. is s.isupper() then returns s\n",
    "    if(not s.isupper()):\n",
    "        return s.lower()\n",
    "    else:\n",
    "        return s"
   ]
  },
  {
   "cell_type": "markdown",
   "metadata": {
    "id": "wjD4UnQb8NKa"
   },
   "source": [
    "Pre-processing: Read the complete data. First column has the words to be classified, and last column shows the\n",
    "gold standard tag for each word. Lower case capitalized words (i.e., starts with a capital letter) but not all\n",
    "capital words (e.g., USA). Do not remove stopwords. Data is already separated by sentence and tokenized, so\n",
    "do not use different tools to tokenize for this task. Separate data by sentence. Once you know the maximum\n",
    "sentence length in the data, append 0s at the end of shorter sentences to make them match this max length.\n",
    "Set the tag for the 0s to <pad>. "
   ]
  },
  {
   "cell_type": "code",
   "execution_count": 4,
   "metadata": {
    "id": "ZZUJ_iof80Zx"
   },
   "outputs": [],
   "source": [
    "vocab=set([])\n",
    "def openandread(path):\n",
    "    #load the file and create list for sentences and tags\n",
    "    tag_list=[]\n",
    "    with open(path) as f:\n",
    "        sent=[]\n",
    "        tag=[]\n",
    "        line_list=[]\n",
    "        for line in f:\n",
    "            content=line.split()\n",
    "\n",
    "            if (line in ['\\n', '\\r\\n']):\n",
    "                if(len(sent)>0):\n",
    "                    line_list.append(sent)\n",
    "                    tag_list.append(tag)\n",
    "                    sent = []\n",
    "                    tag = []\n",
    "            else:\n",
    "                if content[0] != '-DOCSTART-':\n",
    "                    token = normalize_case(content[0])\n",
    "                    sent.append(token)\n",
    "                    vocab.add(token)\n",
    "                    tag.append(content[3])\n",
    "\n",
    "\n",
    "    #return 2 lists\n",
    "    return line_list,tag_list"
   ]
  },
  {
   "cell_type": "code",
   "execution_count": 5,
   "metadata": {
    "id": "Y8iI_leh80cz"
   },
   "outputs": [],
   "source": [
    "# embedding \n",
    "def vectorize_line(line_list,words):\n",
    "    #Convert word to index\n",
    "    word2index = {w: i for i, w in enumerate(list(words))}\n",
    "    word2index['-PAD-'] = 0  # The special value used for padding\n",
    "    word2index['-OOV-'] = 1  # The special value used for OOVs\n",
    "    train_list=[]\n",
    "    for s in line_list:\n",
    "        s_int = []\n",
    "        for w in s:\n",
    "            try:\n",
    "                s_int.append(word2index[w.lower()])\n",
    "            except KeyError:\n",
    "                s_int.append(word2index['-OOV-'])\n",
    "        train_list.append(s_int)\n",
    "    #embeddings_index = models.KeyedVectors.load_word2vec_format('GoogleNews-vectors-negative300.bin', binary=True)\n",
    "    #line_vec = [[w[word] for word in line if word in w] for line in line_list]\n",
    "    return train_list,word2index"
   ]
  },
  {
   "cell_type": "markdown",
   "metadata": {
    "id": "-Y_K2O0S8Qz1"
   },
   "source": [
    "Embeddings: Use pretrained word embeddings.These are word2vec\n",
    "embeddings trained on the google news dataset. You will find 300 dimensional embedding vectors for 3 million words and phrases. Use them as your input vector representations"
   ]
  },
  {
   "cell_type": "code",
   "execution_count": 6,
   "metadata": {
    "id": "tq68ZK9v81Jx"
   },
   "outputs": [],
   "source": [
    "def vectorize_tag(tags,tag_list):\n",
    "    #Convert tags to index\n",
    "    tag2index = {t: i for i, t in enumerate(list(tags))}\n",
    "    test_tags_y=[]\n",
    "    for s in tag_list:\n",
    "        test_tags_y.append([tag2index[t] for t in s])\n",
    "    return test_tags_y"
   ]
  },
  {
   "cell_type": "code",
   "execution_count": 7,
   "metadata": {
    "id": "eFtanLny81Mj"
   },
   "outputs": [],
   "source": [
    "def embed(word2index):\n",
    "    #Create embedding matrix using word2vec\n",
    "    filepath='./GoogleNews-vectors-negative300.bin'\n",
    "    embeddings_index = models.KeyedVectors.load_word2vec_format(filepath, binary=True)\n",
    "    emb_matrix = np.zeros((len(word2index)+2, 300))\n",
    "    embeddings_index['-DOCSTART-']=np.zeros(300)\n",
    "    for word, i in word2index.items():\n",
    "        if(word in embeddings_index):\n",
    "            embedding_vector = embeddings_index[word]\n",
    "        else:\n",
    "            embedding_vector =np.zeros(300)\n",
    "        if embedding_vector is not None:\n",
    "            emb_matrix[i] = embedding_vector\n",
    "    return emb_matrix"
   ]
  },
  {
   "cell_type": "markdown",
   "metadata": {
    "id": "v9F_FX9f8eSM"
   },
   "source": [
    "Training: Build an RNN. Start with a vanilla RNN, with one layer of 256 hidden units, and a fully connected\n",
    "output layer using softmax as activation function. Use Adam optimizer, and cross-entropy for the loss function\n",
    "with learning rate 0.0001. Try a bidirectional RNN with the same settings. Train with 2000 mini batches per\n",
    "epoch. You may see convergence around 5000 epochs. You can change the RNN unit to LSTM or GRUs in both\n",
    "the unidirectional and bidirectional architectures, and experiment with different learning rates and batch\n",
    "sizes. Complete your system architecture, as well as hyperparameter and parameter tuning using training and\n",
    "validation data. Finally, for the best architecture among the 6 (pick one!) above (RNN, bi-RNN, LSTM, bi-LSTM,\n",
    "GRU, bi-GRU), make the necessary modifications to update the embeddings along with the rest of the network.\n",
    "This is your 7th and final system. Save your trained systems (i.e., models) using libraries such as\n",
    "callbacks.ModelCheckpoint(...) or model.save_weights(..)."
   ]
  },
  {
   "cell_type": "code",
   "execution_count": 8,
   "metadata": {
    "id": "DLXT4RnB81m7"
   },
   "outputs": [],
   "source": [
    "def to_categorical(sequences, categories):\n",
    "    #Create label encoding of y variable(tags)\n",
    "    class_sequences = []\n",
    "    for s in sequences:\n",
    "        class_cats = []\n",
    "        for item in s:\n",
    "            x=np.zeros(categories)\n",
    "            x[item] = 1.0\n",
    "            class_cats.append(x)\n",
    "        class_sequences.append(class_cats)\n",
    "    return np.array(class_sequences)"
   ]
  },
  {
   "cell_type": "code",
   "execution_count": 9,
   "metadata": {
    "id": "OLZtIyiAqxfG"
   },
   "outputs": [],
   "source": [
    "def ignore_class_accuracy(to_ignore=0):\n",
    "    def ignore_accuracy(y_true, y_pred):\n",
    "        y_true_class = K.argmax(y_true, axis=-1) #get max prob from true labels \n",
    "        y_pred_class = K.argmax(y_pred, axis=-1) #get max prob from softmax \n",
    "\n",
    "        ignore_mask = K.cast(K.not_equal(y_pred_class, to_ignore), 'int32')\n",
    "        matches = K.cast(K.equal(y_true_class, y_pred_class), 'int32') * ignore_mask\n",
    "        accuracy = K.sum(matches) / K.maximum(K.sum(ignore_mask), 1)\n",
    "        return accuracy\n",
    "\n",
    "    return ignore_accuracy\n"
   ]
  },
  {
   "cell_type": "code",
   "execution_count": 10,
   "metadata": {
    "id": "RfXsDbVCq9eB"
   },
   "outputs": [],
   "source": [
    "def vanilla_rnn(max_len,emb_matrix):\n",
    "    #Creates vanilla rnn model\n",
    "    model = Sequential(name='Vanilla_RNN_model') #Implements the sequence\n",
    "    model.add(InputLayer(input_shape=(max_len, ))) #Input layer for max length of text\n",
    "    model.add(Embedding(len(vocab), 128,trainable=True))\n",
    "    model.add(SimpleRNN(256, return_sequences=True))\n",
    "    model.add(TimeDistributed(Dense(10)))\n",
    "    model.add(Activation('softmax')) #for multi-classes\n",
    "     \n",
    "    model.compile(loss='categorical_crossentropy', #loss function\n",
    "                  optimizer=Adam(0.0001),#learning rate with Adam optimizer\n",
    "                  metrics=['accuracy',ignore_class_accuracy(0)])\n",
    "    print(model.summary())\n",
    "    return model\n"
   ]
  },
  {
   "cell_type": "code",
   "execution_count": 11,
   "metadata": {
    "id": "oer55lDNqxht"
   },
   "outputs": [],
   "source": [
    "def lstm_model(max_len,emb_matrix):\n",
    "    #Creates lstm model\n",
    "    model = Sequential(name='LSTM_model') #Implements the sequence\n",
    "    model.add(InputLayer(input_shape=(max_len, )))#Input layer for max length of text\n",
    "    model.add(Embedding(len(vocab), 300))\n",
    "    model.add(LSTM(256, return_sequences=True))\n",
    "    model.add(TimeDistributed(Dense(10)))\n",
    "    model.add(Activation('softmax'))#for multi-classes\n",
    "    model.compile(loss='categorical_crossentropy', #loss function\n",
    "                  optimizer=Adam(0.0001),#learning rate with Adam optimizer\n",
    "                  metrics=['accuracy',ignore_class_accuracy(0)]) \n",
    "    print(model.summary())\n",
    "    return model"
   ]
  },
  {
   "cell_type": "code",
   "execution_count": 12,
   "metadata": {
    "id": "afIy9eydqxmK"
   },
   "outputs": [],
   "source": [
    "#Here, we are defining GRU model, GRU model is Gated Recurrent Unit which is an recurrent neural network architecture.\n",
    "#GRU model is similar to LSTM Model. GRU comprises of the reset gate and the update gate instead of the input, output and forget gate of the LSTM\n",
    "def gru_model(max_len,emb_matrix):\n",
    "    #Creates gru model\n",
    "    model = Sequential(name='GRU_model')\n",
    "    #Adding the neural network input layer\n",
    "    model.add(InputLayer(input_shape=(max_len, )))\n",
    "    model.add(Embedding(len(vocab), 128))\n",
    "    model.add(LSTM(256, return_sequences=True))\n",
    "    model.add(TimeDistributed(Dense(10)))\n",
    "    #Adding the input layer with softmax activation function\n",
    "    model.add(Activation('softmax'))\n",
    "    #Giving categorical crossentropy as loss function and using adam optimizer with accuracy as metrics.\n",
    "    model.compile(loss='categorical_crossentropy',\n",
    "                  optimizer=Adam(0.0001),\n",
    "                  metrics=['accuracy',ignore_class_accuracy(0)])\n",
    "    #Printing the model summary\n",
    "    print(model.summary())\n",
    "    return model"
   ]
  },
  {
   "cell_type": "code",
   "execution_count": 13,
   "metadata": {
    "id": "5M42tLZMqxpR"
   },
   "outputs": [],
   "source": [
    "#Here we are defining Bidirectional RNN,in order to connect two hidden recurrent neural network layers of opposite directions together into the same output\n",
    "#Bidirectional recurrent neural networks(RNN) are really just putting two independent RNNs together. \n",
    "#The input sequence is fed in normal time order for one network, and in reverse time order for another. \n",
    "def Bidirectional_rnn(max_len,emb_matrix):\n",
    "    #Creates bidirectional rnn model\n",
    "    model = Sequential(name='Bidirectional_RNN_model')\n",
    "    #Adding the neural network input layer\n",
    "    model.add(InputLayer(input_shape=(max_len, )))\n",
    "    model.add(Embedding(len(vocab), 128))\n",
    "    model.add(Bidirectional(SimpleRNN(256, return_sequences=True)))\n",
    "    #Adding Time Distribution which applies a layer to every temporal slice of an input\n",
    "    model.add(TimeDistributed(Dense(10)))\n",
    "    #Adding the input layer with softmax activation function\n",
    "    model.add(Activation('softmax'))\n",
    "    #We are giving categorical crossentropy as loss function and using adam optimizer with accuracy as metrics.\n",
    "    model.compile(loss='categorical_crossentropy',\n",
    "                  optimizer=Adam(0.0001),\n",
    "                  metrics=['accuracy',ignore_class_accuracy(0)])\n",
    "    #Printing the model summary.\n",
    "    print(model.summary())\n",
    "    return model"
   ]
  },
  {
   "cell_type": "code",
   "execution_count": 14,
   "metadata": {
    "id": "kLTBYV8qapt2"
   },
   "outputs": [],
   "source": [
    "#Here, we are defining Bidirectional LSTM which is an extension of traditional LSTM. \n",
    "#In order to improve model performance on sequence classification, we are using Bidirectional LSTM. \n",
    "#Here, Bidirectional LSTM train two inputs as nlp input and meta input instead of one LSTMs on the input sequence.\n",
    "def Bidirectional_LSTM(max_len,emb_matrix):\n",
    "    #Creates bidirectional lstm\n",
    "    nlp_input = Input(shape=(max_len,), name='nlp_input')\n",
    "    meta_input = Input(shape=(10,), name='meta_input')\n",
    "    model = Sequential(name='Bidirectional_LSTM_model')\n",
    "    #Adding the neural network input layer\n",
    "    model.add(InputLayer(input_shape=(max_len, )))\n",
    "    model.add(Embedding(len(vocab), 300))\n",
    "    model.add(Bidirectional(LSTM(256, return_sequences=True)))\n",
    "    #Adding Time Distribution which applies a layer to every temporal slice of an input\n",
    "    model.add(TimeDistributed(Dense(10))) \n",
    "    # Adding the input layer with softmax activation function                                                                                                                                                                                                                                                                                                                                                                                                                                                                                                                                                                             \n",
    "    model.add(Activation('softmax'))\n",
    "    #We are giving categorical crossentropy as loss function and using adam optimizer with accuracy as metrics\n",
    "    model.compile(loss='categorical_crossentropy',\n",
    "                  optimizer=Adam(0.001),\n",
    "                  metrics=['accuracy',ignore_class_accuracy(0)])\n",
    "    #Printing the model summary.\n",
    "    print(model.summary())\n",
    "    return model"
   ]
  },
  {
   "cell_type": "code",
   "execution_count": 15,
   "metadata": {
    "id": "DnrGR1TE81pi"
   },
   "outputs": [],
   "source": [
    "#Here, we are defining Bidirectional GRU which is a type of bidirectional recurrent neural networks with only the input and forget gates. \n",
    "#It allows for the use of information from both previous time steps and later time steps to make predictions about the current state.\n",
    "def Bidirectional_GRU(max_len,emb_matrix):\n",
    "    #Creates bidirectional gru\n",
    "    model = Sequential(name='Bidirectional_GRU_model')\n",
    "    #Adding the neural network input layer\n",
    "    model.add(InputLayer(input_shape=(max_len, )))\n",
    "    #adding embedding which provides a dense representation of words and their relative meanings\n",
    "    model.add(Embedding(len(vocab), 300,trainable=True))\n",
    "    model.add(Bidirectional(GRU(256, return_sequences=True)))\n",
    "    #Adding Time Distribution which applies a layer to every temporal slice of an input\n",
    "    model.add(TimeDistributed(Dense(10)))\n",
    "    #Adding the input layer with softmax activation function\n",
    "    model.add(Activation('softmax'))\n",
    "    #We are giving categorical crossentropy as loss function and using adam optimizer with accuracy as metrics\n",
    "    model.compile(loss='categorical_crossentropy',\n",
    "                  optimizer=Adam(0.0001),\n",
    "                  metrics=['accuracy',ignore_class_accuracy(0)])\n",
    "    #Printing the model summary.\n",
    "    print(model.summary())\n",
    "    return model"
   ]
  },
  {
   "cell_type": "code",
   "execution_count": 16,
   "metadata": {
    "id": "GLrgMNymay7z"
   },
   "outputs": [],
   "source": [
    "#Function to get. text files. and log of models\n",
    "def packAndStore(x,filename):\n",
    "    y=[]\n",
    "    for i in x:\n",
    "        sub_y=[]\n",
    "        for j in i:\n",
    "            sub_y.append(tag_list_prime[np.argmax(j, axis=0)])\n",
    "        y.append(sub_y)\n",
    "\n",
    "    result=[]\n",
    "    for i in range(0,len(line_list_test)):\n",
    "        for j in range(0,len(line_list_test[i])):\n",
    "            try:\n",
    "                y[i][j]\n",
    "                if(y[i][j]!='<pad>'):\n",
    "                    result.append(line_list_test[i][j]+\" \"+tag_list_test[i][j]+\" \"+y[i][j])\n",
    "            except IndexError:\n",
    "                continue\n",
    "\n",
    "    with open(filename, 'w') as f:\n",
    "        for item in result:\n",
    "            f.write(\"%s\\n\" % item)"
   ]
  },
  {
   "cell_type": "code",
   "execution_count": 17,
   "metadata": {},
   "outputs": [],
   "source": [
    "#Function to plot accuracy converging of training vs validation\n",
    "def accuracy_plot(title_, history_fit):\n",
    "    plt.plot(history_fit.history['accuracy'])\n",
    "    plt.plot(history_fit.history['val_accuracy'])\n",
    "    plt.title(title_)\n",
    "    plt.ylabel('Accuracy')\n",
    "    plt.xlabel('Epoch')\n",
    "    plt.legend(['Train', 'Validation'], loc='lower right')\n",
    "    plt.show()\n",
    "    return plt"
   ]
  },
  {
   "cell_type": "code",
   "execution_count": 18,
   "metadata": {
    "id": "me-8VZSMqxJG"
   },
   "outputs": [],
   "source": [
    "#Function to plot loss converging of training vs validation\n",
    "def loss_plot(title_, history_fit):\n",
    "    plt.plot(history_fit.history['loss'])\n",
    "    plt.plot(history_fit.history['val_loss'])\n",
    "    plt.title(title_)\n",
    "    plt.ylabel('Loss')\n",
    "    plt.xlabel('Epoch')\n",
    "    plt.legend(['Train', 'Validation'], loc='lower right')\n",
    "    plt.show()\n",
    "    return plt"
   ]
  },
  {
   "cell_type": "markdown",
   "metadata": {
    "id": "s0Mzbw-L8m3J"
   },
   "source": [
    "Testing: Apply your trained models (7 total) to test data. Save your output and results in a .txt or a .log file.\n",
    "Results should be in the following format:\n",
    "Word Gold_Standard Prediction\n",
    "SOCCER O O\n",
    "- O O\n",
    "MEXICO B-LOC B-LOC\n",
    "GET O O"
   ]
  },
  {
   "cell_type": "code",
   "execution_count": 19,
   "metadata": {
    "id": "YhcimWLavS1X"
   },
   "outputs": [],
   "source": [
    "#reading in train, validation and testing date function\n",
    "line_list_train=[]\n",
    "tag_list_train=[]\n",
    "line_list_train,tag_list_train=openandread(r'./conll2003/train.txt')\n",
    "\n",
    "line_list_valid=[]\n",
    "tag_list_valid=[]\n",
    "line_list_valid,tag_list_valid=openandread(r'./conll2003/valid.txt')\n",
    "\n",
    "line_list_test=[]\n",
    "tag_list_test=[]\n",
    "line_list_test,tag_list_test=openandread(r'./conll2003/test.txt')"
   ]
  },
  {
   "cell_type": "code",
   "execution_count": 20,
   "metadata": {
    "colab": {
     "base_uri": "https://localhost:8080/",
     "height": 380
    },
    "id": "TJckpXDwrtxz",
    "outputId": "8ef76b88-4781-41da-c2f0-7cf7a2db5cbb"
   },
   "outputs": [],
   "source": [
    "#getting embeddings, applying padding and list tags\n",
    "max_len_train = len(max(line_list_train, key=len))\n",
    "line_vec_train,word2index=vectorize_line(line_list_train,vocab)\n",
    "line_vec_train = pad_seq(line_vec_train,max_len_train)\n",
    "\n",
    "#max_len_valid = len(max(line_list_valid, key=len))\n",
    "line_vec_valid,word2index=vectorize_line(line_list_valid,vocab)\n",
    "line_vec_valid = pad_seq(line_vec_valid,max_len_train)\n",
    "    \n",
    "#max_len_test = len(max(line_list_train, key=len))\n",
    "line_vec_test,word2index=vectorize_line(line_list_test,vocab)\n",
    "line_vec_test = pad_seq(line_vec_test,max_len_train)\n",
    "    \n",
    "#embedding matrix\n",
    "emb_matrix=embed(word2index)\n",
    "\n",
    "#padding tags   \n",
    "padded_tag_train = pad_tags(tag_list_train,max_len_train)\n",
    "tag_vec_train=vectorize_tag(tag_list_prime,padded_tag_train)\n",
    "    \n",
    "padded_tag_valid = pad_tags(tag_list_valid,max_len_train)\n",
    "tag_vec_valid=vectorize_tag(tag_list_prime,padded_tag_valid)\n",
    "    \n",
    "padded_tag_test = pad_tags(tag_list_test,max_len_train)\n",
    "tag_vec_test=vectorize_tag(tag_list_prime,padded_tag_test)"
   ]
  },
  {
   "cell_type": "code",
   "execution_count": 21,
   "metadata": {
    "id": "F6bH3VOB82Rc"
   },
   "outputs": [],
   "source": [
    "#Implementing label encoding to categorical function\n",
    "tag_vec_one_hot_train = to_categorical(tag_vec_train, 10)\n",
    "tag_vec_one_hot_valid = to_categorical(tag_vec_valid,10)\n",
    "tag_vec_one_hot_test = to_categorical(tag_vec_test,10)"
   ]
  },
  {
   "cell_type": "markdown",
   "metadata": {
    "id": "pUDxid-Ex5na"
   },
   "source": [
    "VANILLA RNN MODEL"
   ]
  },
  {
   "cell_type": "code",
   "execution_count": 22,
   "metadata": {
    "id": "g8qbgnrDwKCr"
   },
   "outputs": [
    {
     "name": "stdout",
     "output_type": "stream",
     "text": [
      "Model: \"Vanilla_RNN_model\"\n",
      "_________________________________________________________________\n",
      "Layer (type)                 Output Shape              Param #   \n",
      "=================================================================\n",
      "embedding_1 (Embedding)      (None, 113, 128)          3641088   \n",
      "_________________________________________________________________\n",
      "simple_rnn_1 (SimpleRNN)     (None, 113, 256)          98560     \n",
      "_________________________________________________________________\n",
      "time_distributed_1 (TimeDist (None, 113, 10)           2570      \n",
      "_________________________________________________________________\n",
      "activation_1 (Activation)    (None, 113, 10)           0         \n",
      "=================================================================\n",
      "Total params: 3,742,218\n",
      "Trainable params: 3,742,218\n",
      "Non-trainable params: 0\n",
      "_________________________________________________________________\n",
      "None\n"
     ]
    },
    {
     "name": "stderr",
     "output_type": "stream",
     "text": [
      "C:\\Users\\jayma\\Anaconda3\\lib\\site-packages\\tensorflow_core\\python\\framework\\indexed_slices.py:433: UserWarning: Converting sparse IndexedSlices to a dense Tensor of unknown shape. This may consume a large amount of memory.\n",
      "  \"Converting sparse IndexedSlices to a dense Tensor of unknown shape. \"\n"
     ]
    },
    {
     "name": "stdout",
     "output_type": "stream",
     "text": [
      "Train on 14041 samples, validate on 3250 samples\n",
      "Epoch 1/20\n",
      "14041/14041 [==============================] - 31s 2ms/step - loss: 0.7124 - accuracy: 0.8280 - ignore_accuracy: 0.2919 - val_loss: 0.3592 - val_accuracy: 0.8781 - val_ignore_accuracy: 0.5707\n",
      "Epoch 2/20\n",
      "14041/14041 [==============================] - 31s 2ms/step - loss: 0.2661 - accuracy: 0.9223 - ignore_accuracy: 0.7397 - val_loss: 0.2467 - val_accuracy: 0.9393 - val_ignore_accuracy: 0.7743\n",
      "Epoch 3/20\n",
      "14041/14041 [==============================] - 31s 2ms/step - loss: 0.2074 - accuracy: 0.9526 - ignore_accuracy: 0.7851 - val_loss: 0.2100 - val_accuracy: 0.9558 - val_ignore_accuracy: 0.7633\n",
      "Epoch 4/20\n",
      "14041/14041 [==============================] - 30s 2ms/step - loss: 0.1785 - accuracy: 0.9657 - ignore_accuracy: 0.7937 - val_loss: 0.1932 - val_accuracy: 0.9640 - val_ignore_accuracy: 0.7886\n",
      "Epoch 5/20\n",
      "14041/14041 [==============================] - 30s 2ms/step - loss: 0.1593 - accuracy: 0.9703 - ignore_accuracy: 0.7959 - val_loss: 0.1738 - val_accuracy: 0.9663 - val_ignore_accuracy: 0.7825\n",
      "Epoch 6/20\n",
      "14041/14041 [==============================] - 31s 2ms/step - loss: 0.1454 - accuracy: 0.9723 - ignore_accuracy: 0.8021 - val_loss: 0.1666 - val_accuracy: 0.9677 - val_ignore_accuracy: 0.7945\n",
      "Epoch 7/20\n",
      "14041/14041 [==============================] - 30s 2ms/step - loss: 0.1348 - accuracy: 0.9738 - ignore_accuracy: 0.8079 - val_loss: 0.1606 - val_accuracy: 0.9683 - val_ignore_accuracy: 0.8003\n",
      "Epoch 8/20\n",
      "14041/14041 [==============================] - 34s 2ms/step - loss: 0.1267 - accuracy: 0.9748 - ignore_accuracy: 0.8137 - val_loss: 0.1531 - val_accuracy: 0.9695 - val_ignore_accuracy: 0.8018\n",
      "Epoch 9/20\n",
      "14041/14041 [==============================] - 34s 2ms/step - loss: 0.1201 - accuracy: 0.9755 - ignore_accuracy: 0.8179 - val_loss: 0.1455 - val_accuracy: 0.9708 - val_ignore_accuracy: 0.8056\n",
      "Epoch 10/20\n",
      "14041/14041 [==============================] - 37s 3ms/step - loss: 0.1150 - accuracy: 0.9760 - ignore_accuracy: 0.8203 - val_loss: 0.1368 - val_accuracy: 0.9721 - val_ignore_accuracy: 0.8096\n",
      "Epoch 11/20\n",
      "14041/14041 [==============================] - 35s 2ms/step - loss: 0.1100 - accuracy: 0.9766 - ignore_accuracy: 0.8236 - val_loss: 0.1321 - val_accuracy: 0.9725 - val_ignore_accuracy: 0.8109\n",
      "Epoch 12/20\n",
      "14041/14041 [==============================] - 34s 2ms/step - loss: 0.1056 - accuracy: 0.9770 - ignore_accuracy: 0.8263 - val_loss: 0.1326 - val_accuracy: 0.9721 - val_ignore_accuracy: 0.8149\n",
      "Epoch 13/20\n",
      "14041/14041 [==============================] - 29s 2ms/step - loss: 0.1016 - accuracy: 0.9772 - ignore_accuracy: 0.8276 - val_loss: 0.1293 - val_accuracy: 0.9722 - val_ignore_accuracy: 0.8183\n",
      "Epoch 14/20\n",
      "14041/14041 [==============================] - 31s 2ms/step - loss: 0.0975 - accuracy: 0.9776 - ignore_accuracy: 0.8295 - val_loss: 0.1219 - val_accuracy: 0.9734 - val_ignore_accuracy: 0.8186\n",
      "Epoch 15/20\n",
      "14041/14041 [==============================] - 31s 2ms/step - loss: 0.0935 - accuracy: 0.9779 - ignore_accuracy: 0.8315 - val_loss: 0.1218 - val_accuracy: 0.9728 - val_ignore_accuracy: 0.8235\n",
      "Epoch 16/20\n",
      "14041/14041 [==============================] - 32s 2ms/step - loss: 0.0897 - accuracy: 0.9782 - ignore_accuracy: 0.8337 - val_loss: 0.1133 - val_accuracy: 0.9743 - val_ignore_accuracy: 0.8250\n",
      "Epoch 17/20\n",
      "14041/14041 [==============================] - 37s 3ms/step - loss: 0.0856 - accuracy: 0.9785 - ignore_accuracy: 0.8360 - val_loss: 0.1096 - val_accuracy: 0.9745 - val_ignore_accuracy: 0.8272\n",
      "Epoch 18/20\n",
      "14041/14041 [==============================] - 33s 2ms/step - loss: 0.0815 - accuracy: 0.9789 - ignore_accuracy: 0.8388 - val_loss: 0.1038 - val_accuracy: 0.9753 - val_ignore_accuracy: 0.8302\n",
      "Epoch 19/20\n",
      "14041/14041 [==============================] - 35s 2ms/step - loss: 0.0775 - accuracy: 0.9794 - ignore_accuracy: 0.8437 - val_loss: 0.1026 - val_accuracy: 0.9752 - val_ignore_accuracy: 0.8358\n",
      "Epoch 20/20\n",
      "14041/14041 [==============================] - 36s 3ms/step - loss: 0.0734 - accuracy: 0.9801 - ignore_accuracy: 0.8485 - val_loss: 0.0980 - val_accuracy: 0.9759 - val_ignore_accuracy: 0.8428\n"
     ]
    }
   ],
   "source": [
    "#Vanilla model\n",
    "vanilla_RNN_model=vanilla_rnn(max_len_train,emb_matrix)\n",
    "vanilla_RNN_history=vanilla_RNN_model.fit(line_vec_train, tag_vec_one_hot_train, batch_size=200, epochs = 20,  validation_data=(line_vec_valid, tag_vec_one_hot_valid))"
   ]
  },
  {
   "cell_type": "code",
   "execution_count": 23,
   "metadata": {},
   "outputs": [],
   "source": [
    "#predict on the test data\n",
    "x1= vanilla_RNN_model.predict(line_vec_test)"
   ]
  },
  {
   "cell_type": "markdown",
   "metadata": {
    "id": "iTZbB4ZF5FGa"
   },
   "source": [
    "BIDIRECTIONAL RNN MODEL"
   ]
  },
  {
   "cell_type": "code",
   "execution_count": 25,
   "metadata": {
    "id": "CawW6dL30Z-u"
   },
   "outputs": [
    {
     "name": "stdout",
     "output_type": "stream",
     "text": [
      "Model: \"Bidirectional_RNN_model\"\n",
      "_________________________________________________________________\n",
      "Layer (type)                 Output Shape              Param #   \n",
      "=================================================================\n",
      "embedding_3 (Embedding)      (None, 113, 128)          3641088   \n",
      "_________________________________________________________________\n",
      "bidirectional_2 (Bidirection (None, 113, 512)          197120    \n",
      "_________________________________________________________________\n",
      "time_distributed_3 (TimeDist (None, 113, 10)           5130      \n",
      "_________________________________________________________________\n",
      "activation_3 (Activation)    (None, 113, 10)           0         \n",
      "=================================================================\n",
      "Total params: 3,843,338\n",
      "Trainable params: 3,843,338\n",
      "Non-trainable params: 0\n",
      "_________________________________________________________________\n",
      "None\n"
     ]
    },
    {
     "name": "stderr",
     "output_type": "stream",
     "text": [
      "C:\\Users\\jayma\\Anaconda3\\lib\\site-packages\\tensorflow_core\\python\\framework\\indexed_slices.py:433: UserWarning: Converting sparse IndexedSlices to a dense Tensor of unknown shape. This may consume a large amount of memory.\n",
      "  \"Converting sparse IndexedSlices to a dense Tensor of unknown shape. \"\n"
     ]
    },
    {
     "name": "stdout",
     "output_type": "stream",
     "text": [
      "Train on 14041 samples, validate on 3250 samples\n",
      "Epoch 1/1\n",
      "14041/14041 [==============================] - 68s 5ms/step - loss: 0.4881 - accuracy: 0.8882 - ignore_accuracy: 0.4259 - val_loss: 0.2289 - val_accuracy: 0.9476 - val_ignore_accuracy: 0.7180\n"
     ]
    }
   ],
   "source": [
    "#Bi RNN model\n",
    "Bidirectional_RNN_model=Bidirectional_rnn(max_len_train,emb_matrix)\n",
    "Bidirectional_RNN_history=Bidirectional_RNN_model.fit(line_vec_train, tag_vec_one_hot_train, epochs = 1, batch_size=200,  validation_data=(line_vec_valid, tag_vec_one_hot_valid))"
   ]
  },
  {
   "cell_type": "code",
   "execution_count": 26,
   "metadata": {
    "id": "wnFo_Wa15SfE"
   },
   "outputs": [],
   "source": [
    "#predict on the test data\n",
    "x2= Bidirectional_RNN_model.predict(line_vec_test)"
   ]
  },
  {
   "cell_type": "markdown",
   "metadata": {
    "id": "_zaM0Yze6c9U"
   },
   "source": [
    "LSTM MODEL"
   ]
  },
  {
   "cell_type": "code",
   "execution_count": 27,
   "metadata": {
    "id": "xsxcr6nB0aBJ"
   },
   "outputs": [
    {
     "name": "stdout",
     "output_type": "stream",
     "text": [
      "Model: \"LSTM_model\"\n",
      "_________________________________________________________________\n",
      "Layer (type)                 Output Shape              Param #   \n",
      "=================================================================\n",
      "embedding_4 (Embedding)      (None, 113, 300)          8533800   \n",
      "_________________________________________________________________\n",
      "lstm_1 (LSTM)                (None, 113, 256)          570368    \n",
      "_________________________________________________________________\n",
      "time_distributed_4 (TimeDist (None, 113, 10)           2570      \n",
      "_________________________________________________________________\n",
      "activation_4 (Activation)    (None, 113, 10)           0         \n",
      "=================================================================\n",
      "Total params: 9,106,738\n",
      "Trainable params: 9,106,738\n",
      "Non-trainable params: 0\n",
      "_________________________________________________________________\n",
      "None\n"
     ]
    },
    {
     "name": "stderr",
     "output_type": "stream",
     "text": [
      "C:\\Users\\jayma\\Anaconda3\\lib\\site-packages\\tensorflow_core\\python\\framework\\indexed_slices.py:433: UserWarning: Converting sparse IndexedSlices to a dense Tensor of unknown shape. This may consume a large amount of memory.\n",
      "  \"Converting sparse IndexedSlices to a dense Tensor of unknown shape. \"\n"
     ]
    },
    {
     "name": "stdout",
     "output_type": "stream",
     "text": [
      "Train on 14041 samples, validate on 3250 samples\n",
      "Epoch 1/1\n",
      "14041/14041 [==============================] - 172s 12ms/step - loss: 1.1246 - accuracy: 0.7988 - ignore_accuracy: 0.4517 - val_loss: 0.3988 - val_accuracy: 0.8620 - val_ignore_accuracy: 0.7878\n"
     ]
    }
   ],
   "source": [
    "#LSTM model\n",
    "LSTM_model=lstm_model(max_len_train,emb_matrix)\n",
    "LSTM_history=LSTM_model.fit(line_vec_train, tag_vec_one_hot_train, epochs = 1, batch_size=200,  validation_data=(line_vec_valid, tag_vec_one_hot_valid))"
   ]
  },
  {
   "cell_type": "code",
   "execution_count": 28,
   "metadata": {
    "id": "jgE6zQmU6pyn"
   },
   "outputs": [],
   "source": [
    "#predict on the test data\n",
    "x3= LSTM_model.predict(line_vec_test)"
   ]
  },
  {
   "cell_type": "markdown",
   "metadata": {
    "id": "clFjbKwG68vV"
   },
   "source": [
    "BIDIRECTIONAL LSTM MODEL"
   ]
  },
  {
   "cell_type": "code",
   "execution_count": 29,
   "metadata": {
    "id": "ULWXIVFA0d9t",
    "scrolled": true
   },
   "outputs": [
    {
     "name": "stdout",
     "output_type": "stream",
     "text": [
      "Model: \"Bidirectional_LSTM_model\"\n",
      "_________________________________________________________________\n",
      "Layer (type)                 Output Shape              Param #   \n",
      "=================================================================\n",
      "embedding_5 (Embedding)      (None, 113, 300)          8533800   \n",
      "_________________________________________________________________\n",
      "bidirectional_3 (Bidirection (None, 113, 512)          1140736   \n",
      "_________________________________________________________________\n",
      "time_distributed_5 (TimeDist (None, 113, 10)           5130      \n",
      "_________________________________________________________________\n",
      "activation_5 (Activation)    (None, 113, 10)           0         \n",
      "=================================================================\n",
      "Total params: 9,679,666\n",
      "Trainable params: 9,679,666\n",
      "Non-trainable params: 0\n",
      "_________________________________________________________________\n",
      "None\n"
     ]
    },
    {
     "name": "stderr",
     "output_type": "stream",
     "text": [
      "C:\\Users\\jayma\\Anaconda3\\lib\\site-packages\\tensorflow_core\\python\\framework\\indexed_slices.py:433: UserWarning: Converting sparse IndexedSlices to a dense Tensor of unknown shape. This may consume a large amount of memory.\n",
      "  \"Converting sparse IndexedSlices to a dense Tensor of unknown shape. \"\n"
     ]
    },
    {
     "name": "stdout",
     "output_type": "stream",
     "text": [
      "Train on 14041 samples, validate on 3250 samples\n",
      "Epoch 1/1\n",
      "14041/14041 [==============================] - 350s 25ms/step - loss: 0.2202 - accuracy: 0.9549 - ignore_accuracy: 0.7447 - val_loss: 0.1021 - val_accuracy: 0.9765 - val_ignore_accuracy: 0.8190\n"
     ]
    }
   ],
   "source": [
    "Bidirectional_LSTM_model=Bidirectional_LSTM(max_len_train,emb_matrix)\n",
    "Bidirectional_LSTM_history=Bidirectional_LSTM_model.fit(line_vec_train, tag_vec_one_hot_train, epochs = 1, batch_size=150,  validation_data=(line_vec_valid, tag_vec_one_hot_valid))    "
   ]
  },
  {
   "cell_type": "code",
   "execution_count": 32,
   "metadata": {},
   "outputs": [
    {
     "data": {
      "text/plain": [
       "array([[[2.24286737e-03, 8.09935331e-01, 3.42425071e-02, ...,\n",
       "         2.80922428e-02, 1.79355871e-02, 5.16015245e-03],\n",
       "        [2.33478006e-03, 8.10699522e-01, 3.33225206e-02, ...,\n",
       "         2.78606545e-02, 1.79834571e-02, 5.23856888e-03],\n",
       "        [6.38049189e-03, 6.33681297e-01, 6.38313070e-02, ...,\n",
       "         5.16934730e-02, 3.22600007e-02, 9.78476927e-03],\n",
       "        ...,\n",
       "        [9.99999523e-01, 3.52215146e-09, 2.24890542e-07, ...,\n",
       "         2.85260402e-08, 3.04141565e-08, 9.03998032e-09],\n",
       "        [9.99999166e-01, 4.44235493e-09, 4.11932319e-07, ...,\n",
       "         5.43689218e-08, 5.71643923e-08, 1.91394207e-08],\n",
       "        [9.99997854e-01, 6.89383040e-09, 8.10372057e-07, ...,\n",
       "         1.10422533e-07, 1.14085047e-07, 4.18017301e-08]],\n",
       "\n",
       "       [[5.60049526e-02, 7.12817371e-01, 4.54552472e-02, ...,\n",
       "         3.02193165e-02, 2.42018066e-02, 7.49282958e-03],\n",
       "        [1.37338385e-01, 6.32791996e-01, 4.43051346e-02, ...,\n",
       "         2.97326948e-02, 2.53623705e-02, 8.22360534e-03],\n",
       "        [7.00541735e-01, 1.51374191e-01, 2.91500743e-02, ...,\n",
       "         1.83001533e-02, 1.53656732e-02, 5.25814062e-03],\n",
       "        ...,\n",
       "        [9.99999523e-01, 3.52272256e-09, 2.24903843e-07, ...,\n",
       "         2.85271291e-08, 3.04197840e-08, 9.04013575e-09],\n",
       "        [9.99999166e-01, 4.44300730e-09, 4.11953522e-07, ...,\n",
       "         5.43706840e-08, 5.71740983e-08, 1.91397120e-08],\n",
       "        [9.99997854e-01, 6.89479007e-09, 8.10411450e-07, ...,\n",
       "         1.10425901e-07, 1.14103109e-07, 4.18023696e-08]],\n",
       "\n",
       "       [[1.02012902e-02, 6.65271461e-01, 6.40926212e-02, ...,\n",
       "         4.40388918e-02, 3.01512480e-02, 8.53434764e-03],\n",
       "        [6.71666954e-03, 8.25321913e-01, 3.31203751e-02, ...,\n",
       "         2.29193121e-02, 1.67543925e-02, 4.54956759e-03],\n",
       "        [2.09085587e-02, 7.05454648e-01, 5.35598546e-02, ...,\n",
       "         3.59495953e-02, 2.67551336e-02, 7.82567915e-03],\n",
       "        ...,\n",
       "        [9.99999523e-01, 3.52254781e-09, 2.24900191e-07, ...,\n",
       "         2.85268573e-08, 3.04181000e-08, 9.04010111e-09],\n",
       "        [9.99999166e-01, 4.44281234e-09, 4.11947639e-07, ...,\n",
       "         5.43702683e-08, 5.71712633e-08, 1.91396747e-08],\n",
       "        [9.99997854e-01, 6.89451385e-09, 8.10400650e-07, ...,\n",
       "         1.10425056e-07, 1.14097773e-07, 4.18022097e-08]],\n",
       "\n",
       "       ...,\n",
       "\n",
       "       [[3.67618632e-03, 6.93274558e-01, 5.29103242e-02, ...,\n",
       "         4.55176383e-02, 2.84196846e-02, 8.33357126e-03],\n",
       "        [2.08427152e-03, 7.94921339e-01, 3.52483578e-02, ...,\n",
       "         3.09179649e-02, 1.95340104e-02, 5.58416778e-03],\n",
       "        [5.02855470e-03, 6.31658733e-01, 6.23283722e-02, ...,\n",
       "         5.36565669e-02, 3.21978070e-02, 9.84264351e-03],\n",
       "        ...,\n",
       "        [9.99999523e-01, 3.52024410e-09, 2.24848719e-07, ...,\n",
       "         2.85228303e-08, 3.03944390e-08, 9.03968722e-09],\n",
       "        [9.99999166e-01, 4.44009274e-09, 4.11858480e-07, ...,\n",
       "         5.43631131e-08, 5.71295118e-08, 1.91387635e-08],\n",
       "        [9.99997854e-01, 6.89058322e-09, 8.10237623e-07, ...,\n",
       "         1.10412003e-07, 1.14020438e-07, 4.18004582e-08]],\n",
       "\n",
       "       [[2.86604580e-03, 7.65532136e-01, 3.99126299e-02, ...,\n",
       "         3.46716680e-02, 2.26689111e-02, 6.52396074e-03],\n",
       "        [4.45929077e-03, 7.18912125e-01, 4.76083159e-02, ...,\n",
       "         4.09119911e-02, 2.61615720e-02, 7.77853560e-03],\n",
       "        [7.48952618e-03, 6.04569912e-01, 6.70924336e-02, ...,\n",
       "         5.57450168e-02, 3.45271006e-02, 1.03737367e-02],\n",
       "        ...,\n",
       "        [9.99999523e-01, 3.51769347e-09, 2.24788693e-07, ...,\n",
       "         2.85167374e-08, 3.03693461e-08, 9.03851483e-09],\n",
       "        [9.99999166e-01, 4.43708759e-09, 4.11755593e-07, ...,\n",
       "         5.43523306e-08, 5.70853977e-08, 1.91365004e-08],\n",
       "        [9.99997854e-01, 6.88623425e-09, 8.10050608e-07, ...,\n",
       "         1.10391575e-07, 1.13938583e-07, 4.17959924e-08]],\n",
       "\n",
       "       [[2.05972278e-03, 8.10727715e-01, 3.23347487e-02, ...,\n",
       "         2.83219200e-02, 1.84616651e-02, 5.20961033e-03],\n",
       "        [2.86525348e-03, 7.45158970e-01, 4.26796190e-02, ...,\n",
       "         3.82510312e-02, 2.43986845e-02, 7.22809508e-03],\n",
       "        [2.19894736e-03, 7.85583198e-01, 3.54821607e-02, ...,\n",
       "         3.22931893e-02, 2.08998341e-02, 6.15272531e-03],\n",
       "        ...,\n",
       "        [9.99999523e-01, 3.51389806e-09, 2.24697814e-07, ...,\n",
       "         2.85079818e-08, 3.03307353e-08, 9.03708397e-09],\n",
       "        [9.99999166e-01, 4.43264669e-09, 4.11603253e-07, ...,\n",
       "         5.43371961e-08, 5.70182586e-08, 1.91337985e-08],\n",
       "        [9.99997854e-01, 6.87985402e-09, 8.09774122e-07, ...,\n",
       "         1.10363786e-07, 1.13813805e-07, 4.17908090e-08]]], dtype=float32)"
      ]
     },
     "execution_count": 32,
     "metadata": {},
     "output_type": "execute_result"
    }
   ],
   "source": [
    "Bidirectional_LSTM_model.predict(line_vec_test)"
   ]
  },
  {
   "cell_type": "code",
   "execution_count": 30,
   "metadata": {
    "id": "pkH751m-7H0_"
   },
   "outputs": [],
   "source": [
    "#predict on the test data\n",
    "x4= Bidirectional_LSTM_model.predict(line_vec_test)"
   ]
  },
  {
   "cell_type": "markdown",
   "metadata": {
    "id": "_3xrgh2z7USm"
   },
   "source": [
    "GRU MODEL"
   ]
  },
  {
   "cell_type": "code",
   "execution_count": 33,
   "metadata": {
    "id": "sct8QoKJ0gqy"
   },
   "outputs": [
    {
     "name": "stdout",
     "output_type": "stream",
     "text": [
      "Model: \"GRU_model\"\n",
      "_________________________________________________________________\n",
      "Layer (type)                 Output Shape              Param #   \n",
      "=================================================================\n",
      "embedding_7 (Embedding)      (None, 113, 128)          3641088   \n",
      "_________________________________________________________________\n",
      "lstm_4 (LSTM)                (None, 113, 256)          394240    \n",
      "_________________________________________________________________\n",
      "time_distributed_7 (TimeDist (None, 113, 10)           2570      \n",
      "_________________________________________________________________\n",
      "activation_7 (Activation)    (None, 113, 10)           0         \n",
      "=================================================================\n",
      "Total params: 4,037,898\n",
      "Trainable params: 4,037,898\n",
      "Non-trainable params: 0\n",
      "_________________________________________________________________\n",
      "None\n"
     ]
    },
    {
     "name": "stderr",
     "output_type": "stream",
     "text": [
      "C:\\Users\\jayma\\Anaconda3\\lib\\site-packages\\tensorflow_core\\python\\framework\\indexed_slices.py:433: UserWarning: Converting sparse IndexedSlices to a dense Tensor of unknown shape. This may consume a large amount of memory.\n",
      "  \"Converting sparse IndexedSlices to a dense Tensor of unknown shape. \"\n"
     ]
    },
    {
     "name": "stdout",
     "output_type": "stream",
     "text": [
      "Train on 14041 samples, validate on 3250 samples\n",
      "Epoch 1/1\n",
      "14041/14041 [==============================] - 267s 19ms/step - loss: 0.4063 - accuracy: 0.9084 - ignore_accuracy: 0.6779 - val_loss: 0.2078 - val_accuracy: 0.9554 - val_ignore_accuracy: 0.7603\n"
     ]
    }
   ],
   "source": [
    "GRU_model=gru_model(max_len_train,emb_matrix)\n",
    "GRU_history=GRU_model.fit(line_vec_train, tag_vec_one_hot_train, epochs = 1,  validation_data=(line_vec_valid, tag_vec_one_hot_valid))"
   ]
  },
  {
   "cell_type": "code",
   "execution_count": 34,
   "metadata": {
    "id": "reOOFgxD7phP"
   },
   "outputs": [],
   "source": [
    "#predict on the test data\n",
    "x5=GRU_model.predict(line_vec_test)"
   ]
  },
  {
   "cell_type": "markdown",
   "metadata": {
    "id": "weg3DukR7y4e"
   },
   "source": [
    "BIDIRECTIONAL GRU MODEL"
   ]
  },
  {
   "cell_type": "code",
   "execution_count": 35,
   "metadata": {
    "id": "yFQj_sti7Zfp"
   },
   "outputs": [
    {
     "name": "stdout",
     "output_type": "stream",
     "text": [
      "Model: \"Bidirectional_GRU_model\"\n",
      "_________________________________________________________________\n",
      "Layer (type)                 Output Shape              Param #   \n",
      "=================================================================\n",
      "embedding_8 (Embedding)      (None, 113, 300)          8533800   \n",
      "_________________________________________________________________\n",
      "bidirectional_4 (Bidirection (None, 113, 512)          855552    \n",
      "_________________________________________________________________\n",
      "time_distributed_8 (TimeDist (None, 113, 10)           5130      \n",
      "_________________________________________________________________\n",
      "activation_8 (Activation)    (None, 113, 10)           0         \n",
      "=================================================================\n",
      "Total params: 9,394,482\n",
      "Trainable params: 9,394,482\n",
      "Non-trainable params: 0\n",
      "_________________________________________________________________\n",
      "None\n"
     ]
    },
    {
     "name": "stderr",
     "output_type": "stream",
     "text": [
      "C:\\Users\\jayma\\Anaconda3\\lib\\site-packages\\tensorflow_core\\python\\framework\\indexed_slices.py:433: UserWarning: Converting sparse IndexedSlices to a dense Tensor of unknown shape. This may consume a large amount of memory.\n",
      "  \"Converting sparse IndexedSlices to a dense Tensor of unknown shape. \"\n"
     ]
    },
    {
     "name": "stdout",
     "output_type": "stream",
     "text": [
      "Train on 14041 samples, validate on 3250 samples\n",
      "Epoch 1/1\n",
      "14041/14041 [==============================] - 444s 32ms/step - loss: 0.9165 - accuracy: 0.8753 - ignore_accuracy: 0.5587 - val_loss: 0.3094 - val_accuracy: 0.9247 - val_ignore_accuracy: 0.8605\n"
     ]
    }
   ],
   "source": [
    "Bidirectional_GRU_model=Bidirectional_GRU(max_len_train,emb_matrix)\n",
    "Bidirectional_GRU_history=Bidirectional_GRU_model.fit(line_vec_train, tag_vec_one_hot_train, epochs = 1,  batch_size=150,validation_data=(line_vec_valid, tag_vec_one_hot_valid))"
   ]
  },
  {
   "cell_type": "code",
   "execution_count": 36,
   "metadata": {
    "id": "bjhSNfgN0kSr"
   },
   "outputs": [],
   "source": [
    "#predict on the test data\n",
    "x6= Bidirectional_GRU_model.predict(line_vec_test)"
   ]
  },
  {
   "cell_type": "code",
   "execution_count": 37,
   "metadata": {
    "id": "mOgcsM_65er0"
   },
   "outputs": [],
   "source": [
    "#Implement function to save txt file and log\n",
    "packAndStore(x1,'vanilla-rnn.txt')\n",
    "packAndStore(x2,'bi-rnn.txt')\n",
    "packAndStore(x3,'lstm.txt')\n",
    "packAndStore(x4,'bi-lstm.txt')\n",
    "packAndStore(x5,'gru.txt')\n",
    "packAndStore(x6,'bi-gru.txt')"
   ]
  },
  {
   "cell_type": "markdown",
   "metadata": {},
   "source": [
    "## FINAL MODEL\n",
    "### The Bidirectional LSTM model\n",
    "Less overfitting compared to other models"
   ]
  },
  {
   "cell_type": "code",
   "execution_count": 38,
   "metadata": {},
   "outputs": [
    {
     "name": "stdout",
     "output_type": "stream",
     "text": [
      "Model: \"Bidirectional_LSTM_model\"\n",
      "_________________________________________________________________\n",
      "Layer (type)                 Output Shape              Param #   \n",
      "=================================================================\n",
      "embedding_9 (Embedding)      (None, 113, 300)          8533800   \n",
      "_________________________________________________________________\n",
      "bidirectional_5 (Bidirection (None, 113, 512)          1140736   \n",
      "_________________________________________________________________\n",
      "time_distributed_9 (TimeDist (None, 113, 10)           5130      \n",
      "_________________________________________________________________\n",
      "activation_9 (Activation)    (None, 113, 10)           0         \n",
      "=================================================================\n",
      "Total params: 9,679,666\n",
      "Trainable params: 9,679,666\n",
      "Non-trainable params: 0\n",
      "_________________________________________________________________\n",
      "None\n"
     ]
    },
    {
     "name": "stderr",
     "output_type": "stream",
     "text": [
      "C:\\Users\\jayma\\Anaconda3\\lib\\site-packages\\tensorflow_core\\python\\framework\\indexed_slices.py:433: UserWarning: Converting sparse IndexedSlices to a dense Tensor of unknown shape. This may consume a large amount of memory.\n",
      "  \"Converting sparse IndexedSlices to a dense Tensor of unknown shape. \"\n"
     ]
    },
    {
     "name": "stdout",
     "output_type": "stream",
     "text": [
      "Train on 14041 samples, validate on 3250 samples\n",
      "Epoch 1/1\n",
      "14041/14041 [==============================] - 303s 22ms/step - loss: 0.2128 - accuracy: 0.9549 - ignore_accuracy: 0.7525 - val_loss: 0.1029 - val_accuracy: 0.9765 - val_ignore_accuracy: 0.8189\n"
     ]
    }
   ],
   "source": [
    "Final_model=Bidirectional_LSTM(max_len_train,emb_matrix)\n",
    "Final_model_Bidirectional_LSTM_history=Final_model.fit(line_vec_train, tag_vec_one_hot_train, epochs = 1, batch_size=150,  validation_data=(line_vec_valid, tag_vec_one_hot_valid))    "
   ]
  },
  {
   "cell_type": "code",
   "execution_count": 39,
   "metadata": {},
   "outputs": [],
   "source": [
    "x7= Final_model.predict(line_vec_test)\n"
   ]
  },
  {
   "cell_type": "code",
   "execution_count": 40,
   "metadata": {},
   "outputs": [],
   "source": [
    "packAndStore(x7,'final_model.txt')"
   ]
  },
  {
   "cell_type": "markdown",
   "metadata": {
    "id": "8WTVLofO8qdU"
   },
   "source": [
    "Bonus Point:\n",
    "- (1 point) Use the statistical significance test to choose the best performing model. Explain the results of\n",
    "the test.\n"
   ]
  },
  {
   "cell_type": "code",
   "execution_count": null,
   "metadata": {
    "id": "ROCnt9huyXHN"
   },
   "outputs": [],
   "source": []
  },
  {
   "cell_type": "markdown",
   "metadata": {
    "id": "0nOa5i4E9Cgi"
   },
   "source": [
    "- (1 point) Does your final algorithm converge? Provide a proof of convergence graphically\n",
    "\n",
    "Yes, there is convergence."
   ]
  },
  {
   "cell_type": "code",
   "execution_count": 41,
   "metadata": {
    "id": "7W-QXh2j-8t4"
   },
   "outputs": [
    {
     "data": {
      "image/png": "[encoded data removed]",
      "text/plain": [
       "<Figure size 432x288 with 1 Axes>"
      ]
     },
     "metadata": {
      "needs_background": "light"
     },
     "output_type": "display_data"
    },
    {
     "data": {
      "text/plain": [
       "<module 'matplotlib.pyplot' from 'C:\\\\Users\\\\jayma\\\\Anaconda3\\\\lib\\\\site-packages\\\\matplotlib\\\\pyplot.py'>"
      ]
     },
     "execution_count": 41,
     "metadata": {},
     "output_type": "execute_result"
    }
   ],
   "source": [
    "plot1=accuracy_plot(\"Vanilla RNN plot of Accuracy for Training vs Validation\", vanilla_RNN_history)\n",
    "plot1"
   ]
  },
  {
   "cell_type": "code",
   "execution_count": 42,
   "metadata": {
    "id": "rYp5uFPF-9CA"
   },
   "outputs": [
    {
     "data": {
      "image/png": "[encoded data removed]",
      "text/plain": [
       "<Figure size 432x288 with 1 Axes>"
      ]
     },
     "metadata": {
      "needs_background": "light"
     },
     "output_type": "display_data"
    },
    {
     "data": {
      "text/plain": [
       "<module 'matplotlib.pyplot' from 'C:\\\\Users\\\\jayma\\\\Anaconda3\\\\lib\\\\site-packages\\\\matplotlib\\\\pyplot.py'>"
      ]
     },
     "execution_count": 42,
     "metadata": {},
     "output_type": "execute_result"
    }
   ],
   "source": [
    "plot2=accuracy_plot(\"Bidirectional RNN plot of Accuracy for Training vs Validation\", Bidirectional_RNN_history)\n",
    "plot2"
   ]
  },
  {
   "cell_type": "code",
   "execution_count": 43,
   "metadata": {
    "id": "8MhSn-yC-9t9"
   },
   "outputs": [
    {
     "data": {
      "image/png": "[encoded data removed]",
      "text/plain": [
       "<Figure size 432x288 with 1 Axes>"
      ]
     },
     "metadata": {
      "needs_background": "light"
     },
     "output_type": "display_data"
    },
    {
     "data": {
      "text/plain": [
       "<module 'matplotlib.pyplot' from 'C:\\\\Users\\\\jayma\\\\Anaconda3\\\\lib\\\\site-packages\\\\matplotlib\\\\pyplot.py'>"
      ]
     },
     "execution_count": 43,
     "metadata": {},
     "output_type": "execute_result"
    }
   ],
   "source": [
    "plot3=accuracy_plot(\"LSTM plot of Accuracy for Training vs Validation\", LSTM_history)\n",
    "plot3"
   ]
  },
  {
   "cell_type": "code",
   "execution_count": 44,
   "metadata": {
    "id": "zxAM8wHS-_4m"
   },
   "outputs": [
    {
     "data": {
      "image/png": "[encoded data removed]",
      "text/plain": [
       "<Figure size 432x288 with 1 Axes>"
      ]
     },
     "metadata": {
      "needs_background": "light"
     },
     "output_type": "display_data"
    },
    {
     "data": {
      "text/plain": [
       "<module 'matplotlib.pyplot' from 'C:\\\\Users\\\\jayma\\\\Anaconda3\\\\lib\\\\site-packages\\\\matplotlib\\\\pyplot.py'>"
      ]
     },
     "execution_count": 44,
     "metadata": {},
     "output_type": "execute_result"
    }
   ],
   "source": [
    "plot4=accuracy_plot(\"Bidirectional LSTM plot of Accuracy for Training vs Validation\", Bidirectional_LSTM_history)\n",
    "plot4"
   ]
  },
  {
   "cell_type": "code",
   "execution_count": 45,
   "metadata": {
    "id": "3xjNzF1l_D11"
   },
   "outputs": [
    {
     "data": {
      "image/png": "[encoded data removed]",
      "text/plain": [
       "<Figure size 432x288 with 1 Axes>"
      ]
     },
     "metadata": {
      "needs_background": "light"
     },
     "output_type": "display_data"
    },
    {
     "data": {
      "text/plain": [
       "<module 'matplotlib.pyplot' from 'C:\\\\Users\\\\jayma\\\\Anaconda3\\\\lib\\\\site-packages\\\\matplotlib\\\\pyplot.py'>"
      ]
     },
     "execution_count": 45,
     "metadata": {},
     "output_type": "execute_result"
    }
   ],
   "source": [
    "plot5=accuracy_plot(\"GRU plot of Accuracy for Training vs Validation\", GRU_history)\n",
    "plot5"
   ]
  },
  {
   "cell_type": "code",
   "execution_count": 46,
   "metadata": {
    "id": "kBD8sdKcAEWe"
   },
   "outputs": [
    {
     "data": {
      "image/png": "[encoded data removed]",
      "text/plain": [
       "<Figure size 432x288 with 1 Axes>"
      ]
     },
     "metadata": {
      "needs_background": "light"
     },
     "output_type": "display_data"
    },
    {
     "data": {
      "text/plain": [
       "<module 'matplotlib.pyplot' from 'C:\\\\Users\\\\jayma\\\\Anaconda3\\\\lib\\\\site-packages\\\\matplotlib\\\\pyplot.py'>"
      ]
     },
     "execution_count": 46,
     "metadata": {},
     "output_type": "execute_result"
    }
   ],
   "source": [
    "plot6=accuracy_plot(\"Bidirectional GRU plot of Accuracy for Training vs Validation\", Bidirectional_GRU_history)\n",
    "plot6"
   ]
  },
  {
   "cell_type": "code",
   "execution_count": 47,
   "metadata": {},
   "outputs": [
    {
     "data": {
      "image/png": "[encoded data removed]",
      "text/plain": [
       "<Figure size 432x288 with 1 Axes>"
      ]
     },
     "metadata": {
      "needs_background": "light"
     },
     "output_type": "display_data"
    },
    {
     "data": {
      "text/plain": [
       "<module 'matplotlib.pyplot' from 'C:\\\\Users\\\\jayma\\\\Anaconda3\\\\lib\\\\site-packages\\\\matplotlib\\\\pyplot.py'>"
      ]
     },
     "execution_count": 47,
     "metadata": {},
     "output_type": "execute_result"
    }
   ],
   "source": [
    "final_model_plot7=accuracy_plot(\"Final Model Bidirectional LSTM plot of Accuracy for Training vs Validation\", Final_model_Bidirectional_LSTM_history)\n",
    "final_model_plot7"
   ]
  },
  {
   "cell_type": "code",
   "execution_count": 48,
   "metadata": {
    "id": "xwQX69S__A50"
   },
   "outputs": [
    {
     "data": {
      "image/png": "[encoded data removed]",
      "text/plain": [
       "<Figure size 432x288 with 1 Axes>"
      ]
     },
     "metadata": {
      "needs_background": "light"
     },
     "output_type": "display_data"
    },
    {
     "data": {
      "text/plain": [
       "<module 'matplotlib.pyplot' from 'C:\\\\Users\\\\jayma\\\\Anaconda3\\\\lib\\\\site-packages\\\\matplotlib\\\\pyplot.py'>"
      ]
     },
     "execution_count": 48,
     "metadata": {},
     "output_type": "execute_result"
    }
   ],
   "source": [
    "plot1=loss_plot(\"Vanilla RNN plot of Loss for Training vs Validation\", vanilla_RNN_history)\n",
    "plot1"
   ]
  },
  {
   "cell_type": "code",
   "execution_count": 49,
   "metadata": {
    "id": "VngvkQa6_BAg"
   },
   "outputs": [
    {
     "data": {
      "image/png": "[encoded data removed]",
      "text/plain": [
       "<Figure size 432x288 with 1 Axes>"
      ]
     },
     "metadata": {
      "needs_background": "light"
     },
     "output_type": "display_data"
    },
    {
     "data": {
      "text/plain": [
       "<module 'matplotlib.pyplot' from 'C:\\\\Users\\\\jayma\\\\Anaconda3\\\\lib\\\\site-packages\\\\matplotlib\\\\pyplot.py'>"
      ]
     },
     "execution_count": 49,
     "metadata": {},
     "output_type": "execute_result"
    }
   ],
   "source": [
    "plot2=loss_plot(\"Bidirectional RNN plot of Loss for Training vs Validation\", Bidirectional_RNN_history)\n",
    "plot2"
   ]
  },
  {
   "cell_type": "code",
   "execution_count": 50,
   "metadata": {
    "id": "2qznJ6Jj_BG3"
   },
   "outputs": [
    {
     "data": {
      "image/png": "[encoded data removed]",
      "text/plain": [
       "<Figure size 432x288 with 1 Axes>"
      ]
     },
     "metadata": {
      "needs_background": "light"
     },
     "output_type": "display_data"
    },
    {
     "data": {
      "text/plain": [
       "<module 'matplotlib.pyplot' from 'C:\\\\Users\\\\jayma\\\\Anaconda3\\\\lib\\\\site-packages\\\\matplotlib\\\\pyplot.py'>"
      ]
     },
     "execution_count": 50,
     "metadata": {},
     "output_type": "execute_result"
    }
   ],
   "source": [
    "plot3=loss_plot(\"LSTM plot of Loss for Training vs Validation\", LSTM_history)\n",
    "plot3"
   ]
  },
  {
   "cell_type": "code",
   "execution_count": 51,
   "metadata": {
    "id": "L9CD3wON_BM9"
   },
   "outputs": [
    {
     "data": {
      "image/png": "[encoded data removed]",
      "text/plain": [
       "<Figure size 432x288 with 1 Axes>"
      ]
     },
     "metadata": {
      "needs_background": "light"
     },
     "output_type": "display_data"
    },
    {
     "data": {
      "text/plain": [
       "<module 'matplotlib.pyplot' from 'C:\\\\Users\\\\jayma\\\\Anaconda3\\\\lib\\\\site-packages\\\\matplotlib\\\\pyplot.py'>"
      ]
     },
     "execution_count": 51,
     "metadata": {},
     "output_type": "execute_result"
    }
   ],
   "source": [
    "plot4=loss_plot(\"Bidirectional LSTM plot of Loss for Training vs Validation\", Bidirectional_LSTM_history)\n",
    "plot4"
   ]
  },
  {
   "cell_type": "code",
   "execution_count": 52,
   "metadata": {
    "id": "lnF8rlD__BXA"
   },
   "outputs": [
    {
     "data": {
      "image/png": "[encoded data removed]",
      "text/plain": [
       "<Figure size 432x288 with 1 Axes>"
      ]
     },
     "metadata": {
      "needs_background": "light"
     },
     "output_type": "display_data"
    },
    {
     "data": {
      "text/plain": [
       "<module 'matplotlib.pyplot' from 'C:\\\\Users\\\\jayma\\\\Anaconda3\\\\lib\\\\site-packages\\\\matplotlib\\\\pyplot.py'>"
      ]
     },
     "execution_count": 52,
     "metadata": {},
     "output_type": "execute_result"
    }
   ],
   "source": [
    "plot5=loss_plot(\"GRU plot of Loss for Training vs Validation\", GRU_history)\n",
    "plot5"
   ]
  },
  {
   "cell_type": "code",
   "execution_count": 53,
   "metadata": {
    "id": "S_nPSPkW_DFv"
   },
   "outputs": [
    {
     "data": {
      "image/png": "[encoded data removed]",
      "text/plain": [
       "<Figure size 432x288 with 1 Axes>"
      ]
     },
     "metadata": {
      "needs_background": "light"
     },
     "output_type": "display_data"
    },
    {
     "data": {
      "text/plain": [
       "<module 'matplotlib.pyplot' from 'C:\\\\Users\\\\jayma\\\\Anaconda3\\\\lib\\\\site-packages\\\\matplotlib\\\\pyplot.py'>"
      ]
     },
     "execution_count": 53,
     "metadata": {},
     "output_type": "execute_result"
    }
   ],
   "source": [
    "plot6=loss_plot(\"Bidirectional GRU plot of Loss for Training vs Validation\", Bidirectional_GRU_history)\n",
    "plot6"
   ]
  },
  {
   "cell_type": "code",
   "execution_count": 54,
   "metadata": {},
   "outputs": [
    {
     "data": {
      "image/png": "[encoded data removed]",
      "text/plain": [
       "<Figure size 432x288 with 1 Axes>"
      ]
     },
     "metadata": {
      "needs_background": "light"
     },
     "output_type": "display_data"
    },
    {
     "data": {
      "text/plain": [
       "<module 'matplotlib.pyplot' from 'C:\\\\Users\\\\jayma\\\\Anaconda3\\\\lib\\\\site-packages\\\\matplotlib\\\\pyplot.py'>"
      ]
     },
     "execution_count": 54,
     "metadata": {},
     "output_type": "execute_result"
    }
   ],
   "source": [
    "final_model_plot7=loss_plot(\"Final Model Bidirectional LSTM plot of Loss for Training vs Validation\", Final_model_Bidirectional_LSTM_history)\n",
    "final_model_plot7"
   ]
  },
  {
   "cell_type": "code",
   "execution_count": null,
   "metadata": {},
   "outputs": [],
   "source": [
    "\n"
   ]
  },
  {
   "cell_type": "markdown",
   "metadata": {
    "id": "MVMmSbpf9Csx"
   },
   "source": []
  }
 ],
 "metadata": {
  "accelerator": "GPU",
  "colab": {
   "collapsed_sections": [],
   "name": "AIT726_assignment3.ipynb",
   "provenance": []
  },
  "kernelspec": {
   "display_name": "Python 3",
   "language": "python",
   "name": "python3"
  },
  "language_info": {
   "codemirror_mode": {
    "name": "ipython",
    "version": 3
   },
   "file_extension": ".py",
   "mimetype": "text/x-python",
   "name": "python",
   "nbconvert_exporter": "python",
   "pygments_lexer": "ipython3",
   "version": "3.7.3"
  }
 },
 "nbformat": 4,
 "nbformat_minor": 1
}
